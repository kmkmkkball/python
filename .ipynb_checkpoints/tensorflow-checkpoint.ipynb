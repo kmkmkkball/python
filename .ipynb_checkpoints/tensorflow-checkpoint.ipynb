{
 "cells": [
  {
   "cell_type": "code",
   "execution_count": 1,
   "metadata": {
    "collapsed": true
   },
   "outputs": [],
   "source": [
    "import tensorflow as tf\n",
    "import numpy as np"
   ]
  },
  {
   "cell_type": "markdown",
   "metadata": {},
   "source": [
    "### create data"
   ]
  },
  {
   "cell_type": "code",
   "execution_count": 2,
   "metadata": {
    "collapsed": true
   },
   "outputs": [],
   "source": [
    "## 隨機生成100個數列 type=float32\n",
    "x_data = np.random.rand(100).astype(np.float32)"
   ]
  },
  {
   "cell_type": "code",
   "execution_count": 3,
   "metadata": {
    "collapsed": true
   },
   "outputs": [],
   "source": [
    "## 要預測的 weight接近0.1 biases接近0.3\n",
    "y_data = x_data*0.1 + 0.3"
   ]
  },
  {
   "cell_type": "markdown",
   "metadata": {},
   "source": [
    "### create tensopflow structure start ###"
   ]
  },
  {
   "cell_type": "code",
   "execution_count": 4,
   "metadata": {},
   "outputs": [
    {
     "name": "stdout",
     "output_type": "stream",
     "text": [
      "WARNING:tensorflow:From C:\\Users\\pc\\Anaconda3\\lib\\site-packages\\tensorflow\\python\\util\\tf_should_use.py:175: initialize_all_variables (from tensorflow.python.ops.variables) is deprecated and will be removed after 2017-03-02.\n",
      "Instructions for updating:\n",
      "Use `tf.global_variables_initializer` instead.\n"
     ]
    }
   ],
   "source": [
    "## 隨機數列生成 1維 範圍-1到1之間\n",
    "Weights = tf.Variable(tf.random_uniform([1],-1.0,1.0))\n",
    "## 初始值為0 1維\n",
    "biases = tf.Variable(tf.zeros([1]))\n",
    "## y = W*0.1+0.3\n",
    "y = Weights*x_data + biases\n",
    "## 計算預測的y和實際的y的差別\n",
    "loss = tf.reduce_mean(tf.square(y-y_data))\n",
    "## 建立優化器 使用GradientDescentOptimizer 學習效率0.5 一般小於1\n",
    "optimizer = tf.train.GradientDescentOptimizer(0.5)\n",
    "## 減少誤差 提升參數準確度\n",
    "train = optimizer.minimize(loss)\n",
    "## 上面只是建立 這邊才初始化\n",
    "init = tf.initialize_all_variables()"
   ]
  },
  {
   "cell_type": "markdown",
   "metadata": {},
   "source": [
    "### create tensopflow structure end ###"
   ]
  },
  {
   "cell_type": "markdown",
   "metadata": {},
   "source": [
    "### 把結構激活初始化"
   ]
  },
  {
   "cell_type": "code",
   "execution_count": 5,
   "metadata": {},
   "outputs": [
    {
     "name": "stdout",
     "output_type": "stream",
     "text": [
      "0 [ 0.58596849] [ 0.02925326]\n",
      "20 [ 0.20345479] [ 0.24189575]\n",
      "40 [ 0.12206635] [ 0.28760669]\n",
      "60 [ 0.10470663] [ 0.29735661]\n",
      "80 [ 0.10100389] [ 0.29943618]\n",
      "100 [ 0.10021412] [ 0.29987976]\n",
      "120 [ 0.10004567] [ 0.29997438]\n",
      "140 [ 0.10000973] [ 0.29999456]\n",
      "160 [ 0.10000207] [ 0.29999885]\n",
      "180 [ 0.10000046] [ 0.29999974]\n",
      "200 [ 0.1000001] [ 0.29999995]\n"
     ]
    }
   ],
   "source": [
    "## 神經網路的指針\n",
    "sess = tf.Session()\n",
    "## 指針指向init激活\n",
    "## 重要\n",
    "sess.run(init)\n",
    "\n",
    "for step in range(201):\n",
    "    sess.run(train)\n",
    "    if step % 20 == 0:\n",
    "        print(step, sess.run(Weights), sess.run(biases))"
   ]
  }
 ],
 "metadata": {
  "kernelspec": {
   "display_name": "Python 3",
   "language": "python",
   "name": "python3"
  },
  "language_info": {
   "codemirror_mode": {
    "name": "ipython",
    "version": 3
   },
   "file_extension": ".py",
   "mimetype": "text/x-python",
   "name": "python",
   "nbconvert_exporter": "python",
   "pygments_lexer": "ipython3",
   "version": "3.6.2"
  }
 },
 "nbformat": 4,
 "nbformat_minor": 2
}
