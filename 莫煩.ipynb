{
 "cells": [
  {
   "cell_type": "markdown",
   "metadata": {},
   "source": [
    "# pickle"
   ]
  },
  {
   "cell_type": "markdown",
   "metadata": {},
   "source": [
    "### 一種只有電腦能讀懂的檔案"
   ]
  },
  {
   "cell_type": "code",
   "execution_count": 1,
   "metadata": {
    "collapsed": true
   },
   "outputs": [],
   "source": [
    "import pickle"
   ]
  },
  {
   "cell_type": "code",
   "execution_count": 2,
   "metadata": {
    "collapsed": true
   },
   "outputs": [],
   "source": [
    "a_dict = {\"da\":111, 2:[23, 1, 4], \"23\":{1:2, \"d\":\"sad\"}}"
   ]
  },
  {
   "cell_type": "markdown",
   "metadata": {},
   "source": [
    "### 寫pickle"
   ]
  },
  {
   "cell_type": "code",
   "execution_count": 3,
   "metadata": {
    "collapsed": true
   },
   "outputs": [],
   "source": [
    "file = open(\"pickle_example.pickle\", \"wb\")"
   ]
  },
  {
   "cell_type": "code",
   "execution_count": 4,
   "metadata": {
    "collapsed": true
   },
   "outputs": [],
   "source": [
    "pickle.dump(a_dict, file)"
   ]
  },
  {
   "cell_type": "code",
   "execution_count": 5,
   "metadata": {
    "collapsed": true
   },
   "outputs": [],
   "source": [
    "file.close()"
   ]
  },
  {
   "cell_type": "markdown",
   "metadata": {},
   "source": [
    "### 讀pickle"
   ]
  },
  {
   "cell_type": "code",
   "execution_count": 6,
   "metadata": {
    "collapsed": true
   },
   "outputs": [],
   "source": [
    "file = open(\"pickle_example.pickle\", \"rb\")"
   ]
  },
  {
   "cell_type": "code",
   "execution_count": 7,
   "metadata": {
    "collapsed": true
   },
   "outputs": [],
   "source": [
    "a_dict1 = pickle.load(file)"
   ]
  },
  {
   "cell_type": "code",
   "execution_count": 8,
   "metadata": {
    "collapsed": true
   },
   "outputs": [],
   "source": [
    "file.close()"
   ]
  },
  {
   "cell_type": "code",
   "execution_count": 9,
   "metadata": {},
   "outputs": [
    {
     "name": "stdout",
     "output_type": "stream",
     "text": [
      "{'da': 111, 2: [23, 1, 4], '23': {1: 2, 'd': 'sad'}}\n"
     ]
    }
   ],
   "source": [
    "print(a_dict1)"
   ]
  },
  {
   "cell_type": "markdown",
   "metadata": {},
   "source": [
    "# SET"
   ]
  },
  {
   "cell_type": "code",
   "execution_count": 10,
   "metadata": {
    "collapsed": true
   },
   "outputs": [],
   "source": [
    "char_list = [\"a\", \"b\", \"b\", \"c\", \"c\", \"c\", \"d\"]"
   ]
  },
  {
   "cell_type": "code",
   "execution_count": 11,
   "metadata": {},
   "outputs": [
    {
     "name": "stdout",
     "output_type": "stream",
     "text": [
      "{'d', 'c', 'a', 'b'}\n"
     ]
    }
   ],
   "source": [
    "print(set(char_list))"
   ]
  },
  {
   "cell_type": "code",
   "execution_count": 12,
   "metadata": {},
   "outputs": [
    {
     "name": "stdout",
     "output_type": "stream",
     "text": [
      "<class 'set'>\n"
     ]
    }
   ],
   "source": [
    "print(type(set(char_list)))"
   ]
  },
  {
   "cell_type": "code",
   "execution_count": 13,
   "metadata": {},
   "outputs": [
    {
     "name": "stdout",
     "output_type": "stream",
     "text": [
      "<class 'dict'>\n"
     ]
    }
   ],
   "source": [
    "print(type({1:2}))"
   ]
  },
  {
   "cell_type": "code",
   "execution_count": 14,
   "metadata": {
    "collapsed": true
   },
   "outputs": [],
   "source": [
    "sentence = \"Welcome Back to This Tutorial\""
   ]
  },
  {
   "cell_type": "code",
   "execution_count": 15,
   "metadata": {},
   "outputs": [
    {
     "name": "stdout",
     "output_type": "stream",
     "text": [
      "{'T', 'e', 'r', 'h', 'i', ' ', 'o', 'm', 'a', 't', 'B', 'k', 'c', 's', 'u', 'l', 'W'}\n"
     ]
    }
   ],
   "source": [
    "print(set(sentence))"
   ]
  },
  {
   "cell_type": "code",
   "execution_count": 16,
   "metadata": {
    "collapsed": true
   },
   "outputs": [],
   "source": [
    "unique_char = set(char_list)"
   ]
  },
  {
   "cell_type": "markdown",
   "metadata": {},
   "source": [
    "### 增加"
   ]
  },
  {
   "cell_type": "code",
   "execution_count": 17,
   "metadata": {
    "collapsed": true
   },
   "outputs": [],
   "source": [
    "unique_char.add(\"x\")"
   ]
  },
  {
   "cell_type": "code",
   "execution_count": 18,
   "metadata": {},
   "outputs": [
    {
     "name": "stdout",
     "output_type": "stream",
     "text": [
      "{'d', 'a', 'x', 'c', 'b'}\n"
     ]
    }
   ],
   "source": [
    "print(unique_char)"
   ]
  },
  {
   "cell_type": "code",
   "execution_count": 19,
   "metadata": {
    "collapsed": true
   },
   "outputs": [],
   "source": [
    "unique_char.add(\"a\")"
   ]
  },
  {
   "cell_type": "code",
   "execution_count": 20,
   "metadata": {},
   "outputs": [
    {
     "data": {
      "text/plain": [
       "{'a', 'b', 'c', 'd', 'x'}"
      ]
     },
     "execution_count": 20,
     "metadata": {},
     "output_type": "execute_result"
    }
   ],
   "source": [
    "unique_char"
   ]
  },
  {
   "cell_type": "markdown",
   "metadata": {},
   "source": [
    "### 全部清空"
   ]
  },
  {
   "cell_type": "code",
   "execution_count": 21,
   "metadata": {
    "collapsed": true
   },
   "outputs": [],
   "source": [
    "# unique_char.clear()"
   ]
  },
  {
   "cell_type": "code",
   "execution_count": 22,
   "metadata": {},
   "outputs": [
    {
     "data": {
      "text/plain": [
       "{'a', 'b', 'c', 'd', 'x'}"
      ]
     },
     "execution_count": 22,
     "metadata": {},
     "output_type": "execute_result"
    }
   ],
   "source": [
    "unique_char"
   ]
  },
  {
   "cell_type": "markdown",
   "metadata": {},
   "source": [
    "### 減掉某個東西"
   ]
  },
  {
   "cell_type": "code",
   "execution_count": 23,
   "metadata": {
    "collapsed": true
   },
   "outputs": [],
   "source": [
    "unique_char.remove(\"x\")"
   ]
  },
  {
   "cell_type": "code",
   "execution_count": 24,
   "metadata": {},
   "outputs": [
    {
     "data": {
      "text/plain": [
       "{'a', 'b', 'c', 'd'}"
      ]
     },
     "execution_count": 24,
     "metadata": {},
     "output_type": "execute_result"
    }
   ],
   "source": [
    "unique_char"
   ]
  },
  {
   "cell_type": "markdown",
   "metadata": {},
   "source": [
    "### 減掉某個東西 沒有的話不會報錯"
   ]
  },
  {
   "cell_type": "code",
   "execution_count": 25,
   "metadata": {
    "collapsed": true
   },
   "outputs": [],
   "source": [
    "unique_char.discard(\"x\")"
   ]
  },
  {
   "cell_type": "code",
   "execution_count": 26,
   "metadata": {},
   "outputs": [
    {
     "data": {
      "text/plain": [
       "{'a', 'b', 'c', 'd'}"
      ]
     },
     "execution_count": 26,
     "metadata": {},
     "output_type": "execute_result"
    }
   ],
   "source": [
    "unique_char"
   ]
  },
  {
   "cell_type": "markdown",
   "metadata": {},
   "source": [
    "### 交集"
   ]
  },
  {
   "cell_type": "code",
   "execution_count": 27,
   "metadata": {
    "collapsed": true
   },
   "outputs": [],
   "source": [
    "set1 = unique_char"
   ]
  },
  {
   "cell_type": "code",
   "execution_count": 28,
   "metadata": {
    "collapsed": true
   },
   "outputs": [],
   "source": [
    "set2 = {\"a\", \"e\", \"i\"}"
   ]
  },
  {
   "cell_type": "code",
   "execution_count": 29,
   "metadata": {},
   "outputs": [
    {
     "name": "stdout",
     "output_type": "stream",
     "text": [
      "{'d', 'c', 'b'}\n"
     ]
    }
   ],
   "source": [
    "print(set1.difference(set2))"
   ]
  },
  {
   "cell_type": "code",
   "execution_count": 30,
   "metadata": {},
   "outputs": [
    {
     "name": "stdout",
     "output_type": "stream",
     "text": [
      "{'a'}\n"
     ]
    }
   ],
   "source": [
    "print(set1.intersection(set2))"
   ]
  },
  {
   "cell_type": "markdown",
   "metadata": {},
   "source": [
    "# 多線程 threading"
   ]
  },
  {
   "cell_type": "code",
   "execution_count": null,
   "metadata": {
    "collapsed": true
   },
   "outputs": [],
   "source": [
    "import threading"
   ]
  },
  {
   "cell_type": "markdown",
   "metadata": {},
   "source": [
    "### 看狀態"
   ]
  },
  {
   "cell_type": "code",
   "execution_count": null,
   "metadata": {
    "collapsed": true
   },
   "outputs": [],
   "source": [
    "def main():\n",
    "    ##共有幾個\n",
    "    print(threading.active_count())\n",
    "    ##詳細\n",
    "    print(threading.enumerate())\n",
    "    ##正在運行的是哪一個\n",
    "    print(threading.current_thread())"
   ]
  },
  {
   "cell_type": "code",
   "execution_count": null,
   "metadata": {
    "collapsed": true
   },
   "outputs": [],
   "source": [
    "if __name__ ==\"__main__\":\n",
    "    main()"
   ]
  },
  {
   "cell_type": "markdown",
   "metadata": {},
   "source": [
    "### 增加threading"
   ]
  },
  {
   "cell_type": "code",
   "execution_count": null,
   "metadata": {
    "collapsed": true
   },
   "outputs": [],
   "source": [
    "def thread_job():\n",
    "    print(\"This is an added Thread, number is %s\" % threading.current_thread())\n",
    "def main():\n",
    "    add_thread = threading.Thread(target = thread_job)\n",
    "    add_thread.start()"
   ]
  },
  {
   "cell_type": "code",
   "execution_count": null,
   "metadata": {
    "collapsed": true
   },
   "outputs": [],
   "source": [
    "if __name__ ==\"__main__\":\n",
    "    main()"
   ]
  },
  {
   "cell_type": "markdown",
   "metadata": {},
   "source": [
    "### 觀察threading"
   ]
  },
  {
   "cell_type": "code",
   "execution_count": null,
   "metadata": {
    "collapsed": true
   },
   "outputs": [],
   "source": [
    "import time"
   ]
  },
  {
   "cell_type": "code",
   "execution_count": null,
   "metadata": {
    "collapsed": true
   },
   "outputs": [],
   "source": [
    "def thread_job():\n",
    "    print(\"T1 start\\n\")\n",
    "    for i in range(10):\n",
    "        time.sleep(0.1)\n",
    "    print(\"T1 finish\\n\")\n",
    "    \n",
    "def main():\n",
    "    add_thread = threading.Thread(target = thread_job)\n",
    "    add_thread.start()\n",
    "    print(\"all done\\n\")\n",
    "    \n",
    "if __name__==\"__main__\":\n",
    "    main()"
   ]
  },
  {
   "cell_type": "code",
   "execution_count": null,
   "metadata": {
    "collapsed": true
   },
   "outputs": [],
   "source": [
    "def thread_job():\n",
    "    print(\"T1 start\\n\")\n",
    "    for i in range(10):\n",
    "        time.sleep(0.1)\n",
    "    print(\"T1 finish\\n\")\n",
    "    \n",
    "def main():\n",
    "    add_thread = threading.Thread(target = thread_job)\n",
    "    add_thread.start()\n",
    "    ## join 會等線程做完才繼續\n",
    "    add_thread.join()\n",
    "    print(\"all done\\n\")\n",
    "    \n",
    "if __name__==\"__main__\":\n",
    "    main()"
   ]
  },
  {
   "cell_type": "code",
   "execution_count": null,
   "metadata": {
    "collapsed": true
   },
   "outputs": [],
   "source": [
    "def thread_job():\n",
    "    print(\"T1 start\\n\")\n",
    "    for i in range(10):\n",
    "        time.sleep(0.1)\n",
    "    print(\"T1 finish\\n\")\n",
    "def T2_job():\n",
    "    print(\"T2 start\")\n",
    "    print(\"T2 finish\")\n",
    "    \n",
    "def main():\n",
    "    add_thread = threading.Thread(target = thread_job, name = \"T1\")\n",
    "    thread2 = threading.Thread(target=T2_job, name = \"T2\")\n",
    "    add_thread.start()\n",
    "    thread2.start()\n",
    "    \n",
    "    ## join 會等線程做完才繼續\n",
    "    thread2.join()\n",
    "    add_thread.join()\n",
    "    print(\"all done\\n\")\n",
    "    \n",
    "if __name__==\"__main__\":\n",
    "    main()"
   ]
  },
  {
   "cell_type": "markdown",
   "metadata": {},
   "source": [
    "### QUEUE功能"
   ]
  },
  {
   "cell_type": "code",
   "execution_count": null,
   "metadata": {
    "collapsed": true
   },
   "outputs": [],
   "source": [
    "import threading\n",
    "import time\n",
    "from queue import Queue"
   ]
  },
  {
   "cell_type": "code",
   "execution_count": null,
   "metadata": {
    "collapsed": true
   },
   "outputs": [],
   "source": [
    "def job(l, q):\n",
    "    for i in range(len(l)):\n",
    "        l[i] = l[i]**2\n",
    "    q.put(l)\n",
    "\n",
    "def multithreading():\n",
    "    q = Queue()\n",
    "    threads = []\n",
    "    data = [[1, 2, 3], [3, 4, 5], [4, 4, 4], [5, 5, 5]]\n",
    "    for i in range(4):\n",
    "        t = threading.Thread(target=job, args=(data[i], q))\n",
    "        t.start()\n",
    "        threads.append(t)\n",
    "    for thread in threads:\n",
    "        thread.join()\n",
    "    result = []\n",
    "    for _ in range(4):\n",
    "        result.append(q.get())\n",
    "    print(result)\n",
    "\n",
    "if __name__ == \"__main__\":\n",
    "    multithreading()"
   ]
  },
  {
   "cell_type": "markdown",
   "metadata": {},
   "source": [
    "### 比較"
   ]
  },
  {
   "cell_type": "code",
   "execution_count": null,
   "metadata": {
    "collapsed": true
   },
   "outputs": [],
   "source": [
    "import threading\n",
    "from queue import Queue\n",
    "import copy\n",
    "import time\n",
    "\n",
    "def job(l, q):\n",
    "    res = sum(l)\n",
    "    q.put(res)\n",
    "\n",
    "def multithreading(l):\n",
    "    q = Queue()\n",
    "    threads = []\n",
    "    for i in range(4):\n",
    "        t = threading.Thread(target=job, args=(copy.copy(l), q), name='T%i' % i)\n",
    "        t.start()\n",
    "        threads.append(t)\n",
    "    [t.join() for t in threads]\n",
    "    total = 0\n",
    "    for _ in range(4):\n",
    "        total += q.get()\n",
    "    print(total)\n",
    "\n",
    "def normal(l):\n",
    "    total = sum(l)\n",
    "    print(total)\n",
    "\n",
    "if __name__ == '__main__':\n",
    "    l = list(range(1000000))\n",
    "    s_t = time.time()\n",
    "    normal(l*4)\n",
    "    print('normal: ',time.time()-s_t)\n",
    "    s_t = time.time()\n",
    "    multithreading(l)\n",
    "    print('multithreading: ', time.time()-s_t)"
   ]
  },
  {
   "cell_type": "code",
   "execution_count": null,
   "metadata": {
    "collapsed": true
   },
   "outputs": [],
   "source": [
    "('T%f' % 1)"
   ]
  },
  {
   "cell_type": "markdown",
   "metadata": {},
   "source": [
    "### Lock"
   ]
  },
  {
   "cell_type": "code",
   "execution_count": null,
   "metadata": {
    "collapsed": true
   },
   "outputs": [],
   "source": [
    "import threading\n",
    "\n",
    "def job1():\n",
    "    global A, lock\n",
    "    lock.acquire()\n",
    "    for i in range(10):\n",
    "        A += 1\n",
    "        print('job1', A)\n",
    "    lock.release()\n",
    "\n",
    "def job2():\n",
    "    global A, lock\n",
    "    lock.acquire()\n",
    "    for i in range(10):\n",
    "        A += 10\n",
    "        print('job2', A)\n",
    "    lock.release()\n",
    "\n",
    "if __name__ == '__main__':\n",
    "    lock = threading.Lock()\n",
    "    A = 0\n",
    "    t1 = threading.Thread(target=job1)\n",
    "    t2 = threading.Thread(target=job2)\n",
    "    t1.start()\n",
    "    t1.join()\n",
    "    t2.start()\n",
    "    \n",
    "    t2.join()"
   ]
  },
  {
   "cell_type": "markdown",
   "metadata": {
    "collapsed": true
   },
   "source": [
    "# multiprocess"
   ]
  },
  {
   "cell_type": "markdown",
   "metadata": {
    "collapsed": true
   },
   "source": [
    "###  queue "
   ]
  },
  {
   "cell_type": "code",
   "execution_count": null,
   "metadata": {
    "collapsed": true
   },
   "outputs": [],
   "source": [
    "import multiprocessing as mp\n",
    "\n",
    "def job(q):\n",
    "    res = 0\n",
    "    for i in range(1000):\n",
    "        res += i+i**2+i**3\n",
    "    q.put(res) # queue\n",
    "\n",
    "if __name__ == '__main__':\n",
    "    q = mp.Queue()\n",
    "    p1 = mp.Process(target=job, args=(q,))\n",
    "    p2 = mp.Process(target=job, args=(q,))\n",
    "    p1.start()\n",
    "    p2.start()\n",
    "    p1.join()\n",
    "    p2.join()\n",
    "    res1 = q.get()\n",
    "    res2 = q.get()\n",
    "    print(res1+res2)\n"
   ]
  },
  {
   "cell_type": "markdown",
   "metadata": {
    "collapsed": true
   },
   "source": [
    "### 效率對比"
   ]
  },
  {
   "cell_type": "code",
   "execution_count": null,
   "metadata": {
    "collapsed": true
   },
   "outputs": [],
   "source": [
    "import multiprocessing as mp\n",
    "import threading as td\n",
    "import time\n",
    "\n",
    "def job(q):\n",
    "    res = 0\n",
    "    for i in range(1000000):\n",
    "        res += i+i**2+i**3\n",
    "    q.put(res) # queue\n",
    "\n",
    "def multicore():\n",
    "    q = mp.Queue()\n",
    "    p1 = mp.Process(target=job, args=(q,))\n",
    "    p2 = mp.Process(target=job, args=(q,))\n",
    "    p1.start()\n",
    "    p2.start()\n",
    "    p1.join()\n",
    "    p2.join()\n",
    "    res1 = q.get()\n",
    "    res2 = q.get()\n",
    "    print('multicore:' , res1+res2)\n",
    "\n",
    "def normal():\n",
    "    res = 0\n",
    "    for _ in range(2):\n",
    "        for i in range(1000000):\n",
    "            res += i+i**2+i**3\n",
    "    print('normal:', res)\n",
    "\n",
    "def multithread():\n",
    "    q = mp.Queue()\n",
    "    t1 = td.Thread(target=job, args=(q,))\n",
    "    t2 = td.Thread(target=job, args=(q,))\n",
    "    t1.start()\n",
    "    t2.start()\n",
    "    t1.join()\n",
    "    t2.join()\n",
    "    res1 = q.get()\n",
    "    res2 = q.get()\n",
    "    print('multithread:', res1+res2)\n",
    "\n",
    "if __name__ == '__main__':\n",
    "    st = time.time()\n",
    "    normal()\n",
    "    st1= time.time()\n",
    "    print('normal time:', st1 - st)\n",
    "    multithread()\n",
    "    st2 = time.time()\n",
    "    print('multithread time:', st2 - st1)\n",
    "    multicore()\n",
    "    print('multicore time:', time.time()-st2)"
   ]
  },
  {
   "cell_type": "markdown",
   "metadata": {
    "collapsed": true
   },
   "source": [
    "### pool"
   ]
  },
  {
   "cell_type": "code",
   "execution_count": null,
   "metadata": {
    "collapsed": true
   },
   "outputs": [],
   "source": [
    "import multiprocessing as mp\n",
    "\n",
    "def job(x):\n",
    "    return x*x\n",
    "\n",
    "def multicore():\n",
    "    pool = mp.Pool(processes=2)\n",
    "    res = pool.map(job, range(10))\n",
    "    print(res)\n",
    "    res = pool.apply_async(job, (2,))\n",
    "    print(res.get())\n",
    "    multi_res =[pool.apply_async(job, (i,)) for i in range(10)]\n",
    "    print([res.get() for res in multi_res])\n",
    "\n",
    "if __name__ == '__main__':\n",
    "    multicore()\n"
   ]
  },
  {
   "cell_type": "markdown",
   "metadata": {},
   "source": [
    "### lock"
   ]
  },
  {
   "cell_type": "code",
   "execution_count": null,
   "metadata": {
    "collapsed": true
   },
   "outputs": [],
   "source": [
    "import multiprocessing as mp\n",
    "import time\n",
    "\n",
    "def job(v, num, l):\n",
    "    l.acquire()\n",
    "    for _ in range(10):\n",
    "        time.sleep(0.1)\n",
    "        v.value += num\n",
    "        print(v.value)\n",
    "    l.release()\n",
    "\n",
    "def multicore():\n",
    "    l = mp.Lock()\n",
    "    v = mp.Value('i', 0)\n",
    "    p1 = mp.Process(target=job, args=(v, 1, l))\n",
    "    p2 = mp.Process(target=job, args=(v, 3, l))\n",
    "    p1.start()\n",
    "    p2.start()\n",
    "    p1.join()\n",
    "    p2.join()\n",
    "\n",
    "if __name__ == '__main__':\n",
    "    multicore()"
   ]
  }
 ],
 "metadata": {
  "kernelspec": {
   "display_name": "Python 3",
   "language": "python",
   "name": "python3"
  },
  "language_info": {
   "codemirror_mode": {
    "name": "ipython",
    "version": 3
   },
   "file_extension": ".py",
   "mimetype": "text/x-python",
   "name": "python",
   "nbconvert_exporter": "python",
   "pygments_lexer": "ipython3",
   "version": "3.6.2"
  }
 },
 "nbformat": 4,
 "nbformat_minor": 2
}
